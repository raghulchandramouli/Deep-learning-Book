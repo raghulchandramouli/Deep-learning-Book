{
 "cells": [
  {
   "cell_type": "markdown",
   "id": "fd17efab",
   "metadata": {},
   "source": [
    "### What is a Neural Network?\n",
    "\n",
    "Think it as a blackbox that you can take a multiply with one or more inputs and weights\n",
    "\n",
    "**Behind the BlackBox**\n",
    "- An empty network (Input -> Predictions)\n",
    "- Inserting one input datapoint (Input -> Interface)\n",
    "- Multiplying input by weights (Weights AKA Volumn Knob)\n",
    "- Despositing the prediction (Volume Knob -> Prediction)"
   ]
  },
  {
   "cell_type": "code",
   "execution_count": 3,
   "id": "a1e8022e",
   "metadata": {},
   "outputs": [
    {
     "name": "stdout",
     "output_type": "stream",
     "text": [
      "0.8500000000000001\n"
     ]
    }
   ],
   "source": [
    "weights = 0.1\n",
    "\n",
    "def neural_network(input, weights):\n",
    "    prediction = input * weights\n",
    "    return prediction\n",
    "\n",
    "number_of_inputs = [8.5, 9.5, 10, 9]\n",
    "input = number_of_inputs[0]\n",
    "\n",
    "pred = neural_network(input, weights)\n",
    "print(pred)"
   ]
  },
  {
   "cell_type": "markdown",
   "id": "1de2c178",
   "metadata": {},
   "source": [
    "### Making a Prediction with multiple inputs\n",
    "\n",
    "**Neural Networks can combine intelligenece from multiple datapoints**\n",
    "\n",
    "In a nutshell, It Multiplies three inputs by three knob weights and sums them, This returns a weighted sum\n",
    "\n",
    "`Note: The interface for the neural network is simple; it accepts input variable as information and a weights variable as knowledge, and it outputs a prediction`"
   ]
  },
  {
   "cell_type": "code",
   "execution_count": 9,
   "id": "d156a7cf",
   "metadata": {},
   "outputs": [
    {
     "name": "stdout",
     "output_type": "stream",
     "text": [
      "0.9800000000000001\n"
     ]
    }
   ],
   "source": [
    "weights = [0.1, 0.2, 0]\n",
    "\n",
    "def neural_network(input, weights):\n",
    "    pred = w_sum(input, weights)\n",
    "    return pred\n",
    "\n",
    "\n",
    "def w_sum(a, b):\n",
    "    assert(len(a) == len(b))\n",
    "    \n",
    "    outputs = 0\n",
    "    for i in range(len(a)):\n",
    "        outputs += (a[i] * b[i])\n",
    "    return outputs\n",
    "\n",
    "toes  = [8.5, 9.5, 9.9, 9.0]\n",
    "wlrec = [0.65, 0.8, 0.8, 0.9]\n",
    "nfans = [1.2, 1.3, 0.5, 1.0]\n",
    "\n",
    "input = [toes[0], wlrec[0], nfans[0]]\n",
    "pred = neural_network(input, weights)  \n",
    "\n",
    "print(pred)"
   ]
  },
  {
   "cell_type": "markdown",
   "id": "2fc024ed",
   "metadata": {},
   "source": [
    "### Making a prediction with multiple Outputs\n",
    "\n",
    "**Neural Networks can also make multiple predictions using only a single input**\n",
    "\n",
    "A simple Augmentation than multiple inputs is multiple outputs. Prediction occurs the same as if there were three disconnected single-weight neural network"
   ]
  },
  {
   "cell_type": "code",
   "execution_count": 11,
   "id": "8578a460",
   "metadata": {},
   "outputs": [
    {
     "name": "stdout",
     "output_type": "stream",
     "text": [
      "[0.195, 0.13, 0.5850000000000001]\n"
     ]
    }
   ],
   "source": [
    "weights = [0.3, 0.2, 0.9]\n",
    "\n",
    "def neural_network(input, weights):\n",
    "    pred = ele_mul(input, weights)\n",
    "    return pred\n",
    "\n",
    "def ele_mul(scalar, vector):\n",
    "    output = [0, 0, 0]\n",
    "    \n",
    "    assert(len(output) == len(vector))\n",
    "    for i in range(len(vector)):\n",
    "        output[i] += scalar * vector[i]\n",
    "    \n",
    "    return output\n",
    "    \n",
    "wlrec = [0.65, 0.8, 0.8, 0.8]\n",
    "input = wlrec[0]\n",
    "pred = neural_network(input, weights)\n",
    "print(pred)"
   ]
  },
  {
   "cell_type": "markdown",
   "id": "ea147b68",
   "metadata": {},
   "source": [
    "### Predicting with multiple inputs and outputs\n",
    "\n",
    "**Neural Networks can predict multiple outputs given multiple inputs**\n",
    "\n",
    "We will build a multi-perceptron which takes in multiple inputs and multiple outputs. A weight connects each input node to each output node, and prediction occurs in the usual way"
   ]
  },
  {
   "cell_type": "code",
   "execution_count": 12,
   "id": "0c13531d",
   "metadata": {},
   "outputs": [
    {
     "name": "stdout",
     "output_type": "stream",
     "text": [
      "[0.555, 0.9800000000000001, 0.9650000000000001]\n"
     ]
    }
   ],
   "source": [
    "weights = [[0.1, 0.1, -0.3],\n",
    "           [0.1, 0.2, 0.0],\n",
    "           [0.0, 1.3, 0.1]]\n",
    "\n",
    "def w_sum(a, b):\n",
    "    assert(len(a) == len(b))\n",
    "    output = 0\n",
    "    \n",
    "    for i in range(len(a)):\n",
    "        output += (a[i] * b[i])\n",
    "    return output\n",
    "    \n",
    "def vect_mat_mul(vect, matrix):\n",
    "    assert(len(vect) == len(matrix))\n",
    "    output = [0, 0, 0]\n",
    "    \n",
    "    for i in range(len(vect)):\n",
    "        output[i] = w_sum(vect, matrix[i])\n",
    "    return output\n",
    "\n",
    "def neural_network(input, weights):\n",
    "    pred = vect_mat_mul(input, weights)\n",
    "    return pred\n",
    "\n",
    "toes  = [8.5, 9.5, 9.9, 9.0]\n",
    "wlrec = [0.65, 0.8, 0.8, 0.8]\n",
    "nfans = [1.2, 1.3, 0.5, 1.0]\n",
    "\n",
    "input = [toes[0], wlrec[0], nfans[0]]\n",
    "pred = neural_network(input, weights)\n",
    "print(pred)"
   ]
  },
  {
   "cell_type": "markdown",
   "id": "183eeb95",
   "metadata": {},
   "source": [
    "### Multiple Inputs and outputs:\n",
    "\n",
    "**It performes three independent weighted sums of the inputs to make three predictions**\n",
    "\n",
    "Think it as three weights going onto each output node. Three independent weighted sums of the input. Each output node takes its own weighted sum of the input and makes a prediction"
   ]
  },
  {
   "cell_type": "code",
   "execution_count": 5,
   "id": "594bd3ef",
   "metadata": {},
   "outputs": [
    {
     "name": "stdout",
     "output_type": "stream",
     "text": [
      "[0.5285, -1.6444999999999996, -0.5175000000000001]\n"
     ]
    }
   ],
   "source": [
    "ih_wtg = [[0.1, 0.1, -0.3],\n",
    "           [0.1, 0.2, 0.0],\n",
    "           [0.0, 1.3, 0.1]]\n",
    "\n",
    "hp_wtg = [[0.3, 1.1, -0.3],\n",
    "          [0.1, 0.2, 0.0],\n",
    "          [0.0, 1.3, 0.1]]\n",
    "\n",
    "weights = [ih_wtg, hp_wtg]\n",
    "\n",
    "def w_sum(a, b):\n",
    "    assert (len(a) == len(b))\n",
    "    output = 0\n",
    "    for i in range(len(a)):\n",
    "        output += (a[i] * b[i])\n",
    "    return output\n",
    "\n",
    "def vect_mat_mul(vect, matrix):\n",
    "    assert (len(vect) == len(matrix))\n",
    "    \n",
    "    output = []\n",
    "    for col in range(len(matrix[0])):\n",
    "        val = 0\n",
    "        for row in range(len(vect)):\n",
    "            val += vect[row] * matrix[row][col]\n",
    "        output.append(val)\n",
    "    return output\n",
    "\n",
    "def neural_network(input, weights):\n",
    "    hid = vect_mat_mul(input, weights[0])\n",
    "    pred = vect_mat_mul(hid, weights[1])\n",
    "    return pred\n",
    "\n",
    "toes  = [8.5, 9.5, 9.9, 9.0]\n",
    "wlrec = [0.65, 0.8, 0.8, 0.8]\n",
    "nfans = [1.2, 1.3, 0.5, 1.0]\n",
    "\n",
    "input = [toes[0], wlrec[0], nfans[0]]\n",
    "pred = neural_network(input, weights)\n",
    "print(pred)"
   ]
  },
  {
   "cell_type": "code",
   "execution_count": 7,
   "id": "827c1d7f",
   "metadata": {},
   "outputs": [
    {
     "name": "stdout",
     "output_type": "stream",
     "text": [
      "[ 0.5285 -1.6445 -0.5175]\n"
     ]
    }
   ],
   "source": [
    "### NumPy Version\n",
    "from pickletools import read_uint1\n",
    "import numpy as np\n",
    "\n",
    "ih_wtg = np.array([\n",
    "           [0.1, 0.1, -0.3],\n",
    "           [0.1, 0.2, 0.0],\n",
    "           [0.0, 1.3, 0.1]] )\n",
    "\n",
    "hp_wtg = np.array([\n",
    "          [0.3, 1.1, -0.3],\n",
    "          [0.1, 0.2, 0.0],\n",
    "          [0.0, 1.3, 0.1]] )\n",
    "\n",
    "weights = [ih_wtg, hp_wtg]\n",
    "\n",
    "def neural_network(input, weights):\n",
    "    hid = input.dot(weights[0])\n",
    "    pred = hid.dot(weights[1])\n",
    "    return pred\n",
    "\n",
    "toes  = np.array([8.5, 9.5, 9.9, 9.0])\n",
    "wlrec = np.array([0.65, 0.8, 0.8, 0.8])\n",
    "nfans = np.array([1.2, 1.3, 0.5, 1.0])\n",
    "\n",
    "input = np.array([toes[0], wlrec[0], nfans[0]])\n",
    "pred = neural_network(input, weights)\n",
    "print(pred)"
   ]
  },
  {
   "cell_type": "code",
   "execution_count": null,
   "id": "31f7056a",
   "metadata": {},
   "outputs": [],
   "source": []
  }
 ],
 "metadata": {
  "kernelspec": {
   "display_name": "llm101",
   "language": "python",
   "name": "python3"
  },
  "language_info": {
   "codemirror_mode": {
    "name": "ipython",
    "version": 3
   },
   "file_extension": ".py",
   "mimetype": "text/x-python",
   "name": "python",
   "nbconvert_exporter": "python",
   "pygments_lexer": "ipython3",
   "version": "3.11.13"
  }
 },
 "nbformat": 4,
 "nbformat_minor": 5
}
