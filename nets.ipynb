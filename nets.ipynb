{
 "cells": [
  {
   "cell_type": "markdown",
   "id": "fd17efab",
   "metadata": {},
   "source": [
    "### What is a Neural Network?\n",
    "\n",
    "Think it as a blackbox that you can take a multiply with one or more inputs and weights\n",
    "\n",
    "**Behind the BlackBox**\n",
    "- An empty network (Input -> Predictions)\n",
    "- Inserting one input datapoint (Input -> Interface)\n",
    "- Multiplying input by weights (Weights AKA Volumn Knob)\n",
    "- Despositing the prediction (Volume Knob -> Prediction)"
   ]
  },
  {
   "cell_type": "code",
   "execution_count": 3,
   "id": "a1e8022e",
   "metadata": {},
   "outputs": [
    {
     "name": "stdout",
     "output_type": "stream",
     "text": [
      "0.8500000000000001\n"
     ]
    }
   ],
   "source": [
    "weights = 0.1\n",
    "\n",
    "def neural_network(input, weights):\n",
    "    prediction = input * weights\n",
    "    return prediction\n",
    "\n",
    "number_of_inputs = [8.5, 9.5, 10, 9]\n",
    "input = number_of_inputs[0]\n",
    "\n",
    "pred = neural_network(input, weights)\n",
    "print(pred)"
   ]
  },
  {
   "cell_type": "markdown",
   "id": "1de2c178",
   "metadata": {},
   "source": [
    "### Making a Prediction with multiple inputs\n",
    "\n",
    "**Neural Networks can combine intelligenece from multiple datapoints**\n",
    "\n",
    "In a nutshell, It Multiplies three inputs by three knob weights and sums them, This returns a weighted sum"
   ]
  },
  {
   "cell_type": "code",
   "execution_count": 9,
   "id": "d156a7cf",
   "metadata": {},
   "outputs": [
    {
     "name": "stdout",
     "output_type": "stream",
     "text": [
      "0.9800000000000001\n"
     ]
    }
   ],
   "source": [
    "weights = [0.1, 0.2, 0]\n",
    "\n",
    "def neural_network(input, weights):\n",
    "    pred = w_sum(input, weights)\n",
    "    return pred\n",
    "\n",
    "\n",
    "def w_sum(a, b):\n",
    "    assert(len(a) == len(b))\n",
    "    \n",
    "    outputs = 0\n",
    "    for i in range(len(a)):\n",
    "        outputs += (a[i] * b[i])\n",
    "    return outputs\n",
    "\n",
    "toes  = [8.5, 9.5, 9.9, 9.0]\n",
    "wlrec = [0.65, 0.8, 0.8, 0.9]\n",
    "nfans = [1.2, 1.3, 0.5, 1.0]\n",
    "\n",
    "input = [toes[0], wlrec[0], nfans[0]]\n",
    "pred = neural_network(input, weights)  \n",
    "\n",
    "print(pred)"
   ]
  },
  {
   "cell_type": "code",
   "execution_count": null,
   "id": "4d7e4263",
   "metadata": {},
   "outputs": [],
   "source": []
  }
 ],
 "metadata": {
  "kernelspec": {
   "display_name": "llm101",
   "language": "python",
   "name": "python3"
  },
  "language_info": {
   "codemirror_mode": {
    "name": "ipython",
    "version": 3
   },
   "file_extension": ".py",
   "mimetype": "text/x-python",
   "name": "python",
   "nbconvert_exporter": "python",
   "pygments_lexer": "ipython3",
   "version": "3.11.13"
  }
 },
 "nbformat": 4,
 "nbformat_minor": 5
}
