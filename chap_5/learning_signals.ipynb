{
 "cells": [
  {
   "cell_type": "markdown",
   "id": "e8dae006",
   "metadata": {},
   "source": [
    "### Introduction to Regularization and batching\n",
    "\n",
    "`Let's return to the MNIST dataset and attempt to classify it with the newer network`"
   ]
  },
  {
   "cell_type": "markdown",
   "id": "c5620f70",
   "metadata": {},
   "source": [
    "### Summary of the Model: \n",
    "\n",
    "- **Input Layer:** 784 neurons (for 28 * 28 images pixels)\n",
    "- **Hidden Layer:** 40 Neurons with a ReLu activation functions\n",
    "- **Output Layer:** 10 Neurons\n",
    "- **Loss functions:** sum of squared errors\n",
    "- **Optimzer:** Stochastic Gradient Descent with a LR of 0.005 "
   ]
  },
  {
   "cell_type": "code",
   "execution_count": 5,
   "id": "6663cc9e",
   "metadata": {},
   "outputs": [],
   "source": [
    "import sys, numpy as np\n",
    "from keras.datasets import mnist"
   ]
  },
  {
   "cell_type": "code",
   "execution_count": 6,
   "id": "ca970f3e",
   "metadata": {},
   "outputs": [
    {
     "name": "stdout",
     "output_type": "stream",
     "text": [
      "Downloading data from https://storage.googleapis.com/tensorflow/tf-keras-datasets/mnist.npz\n",
      "\u001b[1m11490434/11490434\u001b[0m \u001b[32m━━━━━━━━━━━━━━━━━━━━\u001b[0m\u001b[37m\u001b[0m \u001b[1m3s\u001b[0m 0us/step\n"
     ]
    }
   ],
   "source": [
    "(x_train, y_train), (x_test, y_test) = mnist.load_data()"
   ]
  },
  {
   "cell_type": "code",
   "execution_count": 7,
   "id": "a816f210",
   "metadata": {},
   "outputs": [],
   "source": [
    "images, labels = (x_train[0:1000].reshape(1000, 28*28)/255, y_train[0:1000])"
   ]
  },
  {
   "cell_type": "code",
   "execution_count": 8,
   "id": "7ec6587f",
   "metadata": {},
   "outputs": [],
   "source": [
    "one_hot_labels = np.zeros((len(labels), 10))"
   ]
  },
  {
   "cell_type": "code",
   "execution_count": 12,
   "id": "f92e92c4",
   "metadata": {},
   "outputs": [],
   "source": [
    "for i,l in enumerate(labels):\n",
    "    one_hot_labels[i][l] = 1\n",
    "labels = one_hot_labels"
   ]
  },
  {
   "cell_type": "code",
   "execution_count": 13,
   "id": "773c0f04",
   "metadata": {},
   "outputs": [],
   "source": [
    "test_images = x_test.reshape(len(x_test), 28*28)/255\n",
    "test_labels = np.zeros((len(y_test), 10))\n",
    "for i, l in enumerate(y_test):\n",
    "    test_labels[i][l] = 1"
   ]
  },
  {
   "cell_type": "code",
   "execution_count": 14,
   "id": "b9f18cc9",
   "metadata": {},
   "outputs": [],
   "source": [
    "np.random.seed(1)\n",
    "relu = lambda x: (x>=0) * x\n",
    "relu2deriv = lambda x: x>=0"
   ]
  },
  {
   "cell_type": "code",
   "execution_count": 15,
   "id": "22fa1348",
   "metadata": {},
   "outputs": [],
   "source": [
    "lr, iter, hidd_size, pixels, num_labels = (0.005, 350, 40, 784, 10)"
   ]
  },
  {
   "cell_type": "code",
   "execution_count": 16,
   "id": "56a1d12e",
   "metadata": {},
   "outputs": [],
   "source": [
    "weights_0_1 = 0.2*np.random.random((pixels, hidd_size)) - 0.1\n",
    "weights_1_2 = 0.2*np.random.random((hidd_size, num_labels)) - 0.1"
   ]
  },
  {
   "cell_type": "code",
   "execution_count": 17,
   "id": "a383eaa7",
   "metadata": {},
   "outputs": [
    {
     "name": "stdout",
     "output_type": "stream",
     "text": [
      "I:349 Error:0.10881979854066498 Correct:1.099"
     ]
    }
   ],
   "source": [
    "for j in range(iter):\n",
    "    error, correct_cnt = (0.0, 0)\n",
    "    for i in range(len(images)):\n",
    "        layer_0 = images[i:i+1]\n",
    "        layer_1 = relu(np.dot(layer_0, weights_0_1))\n",
    "        layer_2 = np.dot(layer_1, weights_1_2)\n",
    "        error += np.sum((labels[i:i+1] - layer_2)**2)\n",
    "        correct_cnt = correct_cnt + int(np.argmax(layer_2) == np.argmax(labels[i:i+1]))\n",
    "        \n",
    "        layer_2_delta = (labels[i:i+1] - layer_2)\n",
    "        layer_1_delta = layer_2_delta.dot(weights_1_2.T)*relu2deriv(layer_1)\n",
    "        weights_1_2 += lr * layer_1.T.dot(layer_2_delta)\n",
    "        weights_0_1 += lr * layer_0.T.dot(layer_1_delta)\n",
    "    \n",
    "    sys.stdout.write(\"\\r\" + \"I:\"+str(j) + \" Error:\" + str(error/float(len(images))) + \" Correct:\" + str(correct_cnt/float(len(images))))"
   ]
  },
  {
   "cell_type": "code",
   "execution_count": null,
   "id": "2bd48397",
   "metadata": {},
   "outputs": [],
   "source": []
  }
 ],
 "metadata": {
  "kernelspec": {
   "display_name": "llm101",
   "language": "python",
   "name": "python3"
  },
  "language_info": {
   "codemirror_mode": {
    "name": "ipython",
    "version": 3
   },
   "file_extension": ".py",
   "mimetype": "text/x-python",
   "name": "python",
   "nbconvert_exporter": "python",
   "pygments_lexer": "ipython3",
   "version": "3.11.13"
  }
 },
 "nbformat": 4,
 "nbformat_minor": 5
}
