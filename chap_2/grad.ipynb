{
 "cells": [
  {
   "cell_type": "markdown",
   "id": "35d4438e",
   "metadata": {},
   "source": [
    "## Gradient Descent\n",
    "\n",
    "After predicting we need to `compare` this gives us a measurement of how much a prediction is missed by\n",
    "\n",
    "After `Compare` we `Learn`, It tells each weight how it can change to reduce the error"
   ]
  },
  {
   "cell_type": "code",
   "execution_count": 1,
   "id": "8b90e6d0",
   "metadata": {},
   "outputs": [
    {
     "name": "stdout",
     "output_type": "stream",
     "text": [
      "0.30250000000000005\n"
     ]
    }
   ],
   "source": [
    "knob_weight = 0.5\n",
    "input = 0.5\n",
    "goal_pred = 0.8\n",
    "\n",
    "pred = input * knob_weight\n",
    "error = (pred - goal_pred) ** 2 # Forces the raw error to be pos by mul it by itself\n",
    "print(error)"
   ]
  },
  {
   "cell_type": "markdown",
   "id": "a1cb8be5",
   "metadata": {},
   "source": [
    "### Simple form of making neural network learn\n",
    "\n",
    "we use `Hot and Cold Learning` it means wiggling the weights to see which direction reduces the error the most, moving the weights in that direction, and repeating until the error gets to 0."
   ]
  },
  {
   "cell_type": "code",
   "execution_count": 10,
   "id": "83d72250",
   "metadata": {},
   "outputs": [
    {
     "name": "stdout",
     "output_type": "stream",
     "text": [
      "1.0\n"
     ]
    }
   ],
   "source": [
    "weight = 0.1\n",
    "lr = 0.1\n",
    "\n",
    "def neural_network(input, weight):\n",
    "    pred = input * weight\n",
    "    return pred\n",
    "\n",
    "number_of_toes = [8.5]\n",
    "win_or_loss_binary = [1]\n",
    "\n",
    "input = number_of_toes[0]\n",
    "true = win_or_loss_binary[0]\n",
    "\n",
    "pred = neural_network(input, weight)\n",
    "p_up = neural_network(input, weight - lr)\n",
    "\n",
    "error = (pred - true) ** 2\n",
    "e_up = (p_up - true) ** 2\n",
    "print(round(e_up, 4))"
   ]
  },
  {
   "cell_type": "markdown",
   "id": "b3f047ec",
   "metadata": {},
   "source": [
    "### Breaking Gradient Descent"
   ]
  },
  {
   "cell_type": "code",
   "execution_count": 14,
   "id": "585ae5b7",
   "metadata": {},
   "outputs": [
    {
     "name": "stdout",
     "output_type": "stream",
     "text": [
      "Error:0.30250000000000005Predictions:0.25\n",
      "Error:0.17015625000000004Predictions:0.3875\n",
      "Error:0.095712890625Predictions:0.49062500000000003\n",
      "Error:0.05383850097656251Predictions:0.56796875\n",
      "Error:0.03028415679931642Predictions:0.6259765625\n"
     ]
    }
   ],
   "source": [
    "weight = 0.5\n",
    "goal_pred = 0.8\n",
    "input = 0.5\n",
    "\n",
    "for iteration in range(5):\n",
    "    pred = input * weight\n",
    "    error = (pred - goal_pred) ** 2\n",
    "    delta = pred - goal_pred\n",
    "    weight_delta = input * delta\n",
    "    weight = weight - weight_delta\n",
    "    print(\"Error:\" + str(error) + \"Predictions:\" + str(pred))"
   ]
  },
  {
   "cell_type": "markdown",
   "id": "0a929bb0",
   "metadata": {},
   "source": [
    "### Introducing Alpha\n",
    "\n",
    "Alpha reduces the weight update so it doesn't overshoot. How does this work\n",
    "<div align='center'>\n",
    "<b><i>weight = weight - derivative</b></i>\n",
    "</div>\n",
    "\n",
    "Accounting for alpha its a rather small change, Notice if alpha is small(say, 0.01), it will reduce the weight consistantly, thus preventing it from exploding\n",
    "\n",
    "<div align='center'>\n",
    "<b><i>weight = weight - (alpha * derivative)</i></b>\n",
    "</div>\n"
   ]
  },
  {
   "cell_type": "code",
   "execution_count": 17,
   "id": "2acaf5c5",
   "metadata": {},
   "outputs": [
    {
     "name": "stdout",
     "output_type": "stream",
     "text": [
      "Error: 0.03999999999999998 Prediction: 1.0\n",
      "Error: 0.0144 Prediction: 0.92\n",
      "Error: 0.005183999999999993 Prediction: 0.872\n",
      "Error: 0.0018662400000000014 Prediction: 0.8432000000000001\n",
      "Error: 0.0006718464000000028 Prediction: 0.8259200000000001\n"
     ]
    }
   ],
   "source": [
    "weight = 0.5\n",
    "goal_pred = 0.8\n",
    "input = 2\n",
    "alpha = 0.1\n",
    "\n",
    "for iteration in range(5):\n",
    "    pred = input * weight\n",
    "    error = (pred - goal_pred) ** 2\n",
    "    derivative = input * (pred - goal_pred)\n",
    "    weight = weight - (alpha * derivative)\n",
    "    \n",
    "    print(\"Error: \" + str(error) + \" Prediction: \" + str(pred))"
   ]
  },
  {
   "cell_type": "markdown",
   "id": "e507c9cc",
   "metadata": {},
   "source": [
    "## Generalizing Gradient Descent\n",
    "\n",
    "- Go through Gradients with multiple inputs\n",
    "- Freezing one weight what does it do?\n",
    "- Gradient descent with multiple ouputs\n",
    "- Gradient descent with multiple input & outputs\n",
    "- Visualizing weights values\n"
   ]
  },
  {
   "cell_type": "markdown",
   "id": "f4899ddd",
   "metadata": {},
   "source": [
    "### Gradient descent with multiple inputs"
   ]
  },
  {
   "cell_type": "code",
   "execution_count": 7,
   "id": "badf3389",
   "metadata": {},
   "outputs": [],
   "source": [
    "# Gradient descent with multiple input\n",
    "\n",
    "def w_sum(a, b):\n",
    "    assert(len(a) == len(b))\n",
    "    output = 0\n",
    "    \n",
    "    for i in range(len(a)):\n",
    "        output += (a[i] * b[i])\n",
    "    \n",
    "    return output\n",
    "\n",
    "def neural_network(input, weights):\n",
    "    pred = w_sum(input, weights)\n",
    "    return pred\n",
    "\n",
    "weights = [0.1, 0.2, -.1]\n",
    "\n",
    "toes = [8.5, 9.5, 9.9, 9.0]\n",
    "wlrec = [0.65, 0.8, 0.8, 0.9]\n",
    "nfans = [1.2, 1.3, 0.5, 1.0]\n",
    "\n",
    "win_or_loss = [1, 1, 0, 1]\n",
    "true = win_or_loss[0]\n",
    "\n",
    "input = [toes[0], wlrec[0], nfans[0]]\n",
    "#pred = neural_network(input, weights)\n",
    "\n",
    "alpha = 0.01 # learning rate\n",
    "\n",
    "# Tracker:\n",
    "errors = []\n",
    "w0, w1, w2 = [], [], []\n",
    "\n",
    "for iter in range(10):\n",
    "    total_error = 0\n",
    "    for i in range(len(toes)):\n",
    "        \n",
    "        x = [toes[i], wlrec[i], nfans[i]]\n",
    "        y_true = win_or_loss[i]\n",
    "        \n",
    "        # Forward pass\n",
    "        pred = neural_network(x, weights)\n",
    "        \n",
    "        # error + delta handling\n",
    "        error = (pred - y_true) ** 2\n",
    "        delta = pred - y_true\n",
    "        total_error += error\n",
    "        \n",
    "        # update weights (Gradient descent)\n",
    "        for j in range(len(weights)):\n",
    "            weights[j] -= alpha * delta * x[j]\n",
    "            \n",
    "    # record per-batch\n",
    "    errors.append(total_error)\n",
    "    w0.append(weights[0])\n",
    "    w1.append(weights[1])\n",
    "    w2.append(weights[2])"
   ]
  },
  {
   "cell_type": "code",
   "execution_count": 11,
   "id": "b546d102",
   "metadata": {},
   "outputs": [
    {
     "data": {
      "image/png": "[encoded data removed]",
      "text/plain": [
       "<Figure size 1000x400 with 2 Axes>"
      ]
     },
     "metadata": {},
     "output_type": "display_data"
    }
   ],
   "source": [
    "### Plotting the results:\n",
    "import matplotlib.pyplot as plt\n",
    "\n",
    "plt.figure(figsize=(10, 4))\n",
    "\n",
    "# error curve\n",
    "plt.subplot(1, 2, 1)\n",
    "plt.plot(errors, label = \"Error\")\n",
    "plt.xlabel(\"Epoch\")\n",
    "plt.ylabel(\"Total Epoch\")\n",
    "plt.title('Error Curve')\n",
    "plt.legend()\n",
    "\n",
    "# Weight updates\n",
    "plt.subplot(1, 2, 2)\n",
    "plt.plot(w0, label='w0')\n",
    "plt.plot(w1, label='w1')\n",
    "plt.plot(w2, label='w2')\n",
    "plt.xlabel('Epoch')\n",
    "plt.ylabel('Wrights values')\n",
    "plt.title(\"domain Adaptation\")\n",
    "plt.legend()\n",
    "\n",
    "# showcase them\n",
    "plt.tight_layout()\n",
    "plt.show()"
   ]
  },
  {
   "cell_type": "code",
   "execution_count": null,
   "id": "09929ed5",
   "metadata": {},
   "outputs": [],
   "source": []
  }
 ],
 "metadata": {
  "kernelspec": {
   "display_name": "llm101",
   "language": "python",
   "name": "python3"
  },
  "language_info": {
   "codemirror_mode": {
    "name": "ipython",
    "version": 3
   },
   "file_extension": ".py",
   "mimetype": "text/x-python",
   "name": "python",
   "nbconvert_exporter": "python",
   "pygments_lexer": "ipython3",
   "version": "3.11.13"
  }
 },
 "nbformat": 4,
 "nbformat_minor": 5
}
