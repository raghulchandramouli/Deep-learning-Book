{
 "cells": [
  {
   "cell_type": "markdown",
   "id": "35d4438e",
   "metadata": {},
   "source": [
    "## Gradient Descent\n",
    "\n",
    "After predicting we need to `compare` this gives us a measurement of how much a prediction is missed by\n",
    "\n",
    "After `Compare` we `Learn`, It tells each weight how it can change to reduce the error"
   ]
  },
  {
   "cell_type": "code",
   "execution_count": 1,
   "id": "8b90e6d0",
   "metadata": {},
   "outputs": [
    {
     "name": "stdout",
     "output_type": "stream",
     "text": [
      "0.30250000000000005\n"
     ]
    }
   ],
   "source": [
    "knob_weight = 0.5\n",
    "input = 0.5\n",
    "goal_pred = 0.8\n",
    "\n",
    "pred = input * knob_weight\n",
    "error = (pred - goal_pred) ** 2 # Forces the raw error to be pos by mul it by itself\n",
    "print(error)"
   ]
  },
  {
   "cell_type": "markdown",
   "id": "a1cb8be5",
   "metadata": {},
   "source": [
    "### Simple form of making neural network learn\n",
    "\n",
    "we use `Hot and Cold Learning` it means wiggling the weights to see which direction reduces the error the most, moving the weights in that direction, and repeating until the error gets to 0."
   ]
  },
  {
   "cell_type": "code",
   "execution_count": 10,
   "id": "83d72250",
   "metadata": {},
   "outputs": [
    {
     "name": "stdout",
     "output_type": "stream",
     "text": [
      "1.0\n"
     ]
    }
   ],
   "source": [
    "weight = 0.1\n",
    "lr = 0.1\n",
    "\n",
    "def neural_network(input, weight):\n",
    "    pred = input * weight\n",
    "    return pred\n",
    "\n",
    "number_of_toes = [8.5]\n",
    "win_or_loss_binary = [1]\n",
    "\n",
    "input = number_of_toes[0]\n",
    "true = win_or_loss_binary[0]\n",
    "\n",
    "pred = neural_network(input, weight)\n",
    "p_up = neural_network(input, weight - lr)\n",
    "\n",
    "error = (pred - true) ** 2\n",
    "e_up = (p_up - true) ** 2\n",
    "print(round(e_up, 4))"
   ]
  },
  {
   "cell_type": "markdown",
   "id": "b3f047ec",
   "metadata": {},
   "source": [
    "### Breaking Gradient Descent"
   ]
  },
  {
   "cell_type": "code",
   "execution_count": 14,
   "id": "585ae5b7",
   "metadata": {},
   "outputs": [
    {
     "name": "stdout",
     "output_type": "stream",
     "text": [
      "Error:0.30250000000000005Predictions:0.25\n",
      "Error:0.17015625000000004Predictions:0.3875\n",
      "Error:0.095712890625Predictions:0.49062500000000003\n",
      "Error:0.05383850097656251Predictions:0.56796875\n",
      "Error:0.03028415679931642Predictions:0.6259765625\n"
     ]
    }
   ],
   "source": [
    "weight = 0.5\n",
    "goal_pred = 0.8\n",
    "input = 0.5\n",
    "\n",
    "for iteration in range(5):\n",
    "    pred = input * weight\n",
    "    error = (pred - goal_pred) ** 2\n",
    "    delta = pred - goal_pred\n",
    "    weight_delta = input * delta\n",
    "    weight = weight - weight_delta\n",
    "    print(\"Error:\" + str(error) + \"Predictions:\" + str(pred))"
   ]
  },
  {
   "cell_type": "markdown",
   "id": "0a929bb0",
   "metadata": {},
   "source": [
    "### Introducing Alpha\n",
    "\n",
    "Alpha reduces the weight update so it doesn't overshoot. How does this work\n",
    "<div align='center'>\n",
    "<b><i>weight = weight - derivative</b></i>\n",
    "</div>\n",
    "\n",
    "Accounting for alpha its a rather small change, Notice if alpha is small(say, 0.01), it will reduce the weight consistantly, thus preventing it from exploding\n",
    "\n",
    "<div align='center'>\n",
    "<b><i>weight = weight - (alpha * derivative)</i></b>\n",
    "</div>\n"
   ]
  },
  {
   "cell_type": "code",
   "execution_count": 17,
   "id": "2acaf5c5",
   "metadata": {},
   "outputs": [
    {
     "name": "stdout",
     "output_type": "stream",
     "text": [
      "Error: 0.03999999999999998 Prediction: 1.0\n",
      "Error: 0.0144 Prediction: 0.92\n",
      "Error: 0.005183999999999993 Prediction: 0.872\n",
      "Error: 0.0018662400000000014 Prediction: 0.8432000000000001\n",
      "Error: 0.0006718464000000028 Prediction: 0.8259200000000001\n"
     ]
    }
   ],
   "source": [
    "weight = 0.5\n",
    "goal_pred = 0.8\n",
    "input = 2\n",
    "alpha = 0.1\n",
    "\n",
    "for iteration in range(5):\n",
    "    pred = input * weight\n",
    "    error = (pred - goal_pred) ** 2\n",
    "    derivative = input * (pred - goal_pred)\n",
    "    weight = weight - (alpha * derivative)\n",
    "    \n",
    "    print(\"Error: \" + str(error) + \" Prediction: \" + str(pred))"
   ]
  },
  {
   "cell_type": "markdown",
   "id": "e507c9cc",
   "metadata": {},
   "source": [
    "## Generalizing Gradient Descent\n",
    "\n",
    "- Go through Gradients with multiple inputs\n",
    "- Freezing one weight what does it do?\n",
    "- Gradient descent with multiple ouputs\n",
    "- Gradient descent with multiple input & outputs\n",
    "- Visualizing weights values\n"
   ]
  },
  {
   "cell_type": "markdown",
   "id": "f4899ddd",
   "metadata": {},
   "source": [
    "### Gradient descent with single inputs\n",
    "\n",
    "- An empty network with single inputs\n",
    "- we do predict + compare: Making a prediction, and calculating error and delta\n",
    "- To learn we calculate each weight_delta and putting it on each weight\n",
    "- After learning we update weights"
   ]
  },
  {
   "cell_type": "code",
   "execution_count": 7,
   "id": "badf3389",
   "metadata": {},
   "outputs": [],
   "source": [
    "# Gradient descent with multiple input\n",
    "\n",
    "def w_sum(a, b):\n",
    "    assert(len(a) == len(b))\n",
    "    output = 0\n",
    "    \n",
    "    for i in range(len(a)):\n",
    "        output += (a[i] * b[i])\n",
    "    \n",
    "    return output\n",
    "\n",
    "def neural_network(input, weights):\n",
    "    pred = w_sum(input, weights)\n",
    "    return pred\n",
    "\n",
    "weights = [0.1, 0.2, -.1]\n",
    "\n",
    "toes = [8.5, 9.5, 9.9, 9.0]\n",
    "wlrec = [0.65, 0.8, 0.8, 0.9]\n",
    "nfans = [1.2, 1.3, 0.5, 1.0]\n",
    "\n",
    "win_or_loss = [1, 1, 0, 1]\n",
    "true = win_or_loss[0]\n",
    "\n",
    "input = [toes[0], wlrec[0], nfans[0]]\n",
    "#pred = neural_network(input, weights)\n",
    "\n",
    "alpha = 0.01 # learning rate\n",
    "\n",
    "# Tracker:\n",
    "errors = []\n",
    "w0, w1, w2 = [], [], []\n",
    "\n",
    "for iter in range(10):\n",
    "    total_error = 0\n",
    "    for i in range(len(toes)):\n",
    "        \n",
    "        x = [toes[i], wlrec[i], nfans[i]]\n",
    "        y_true = win_or_loss[i]\n",
    "        \n",
    "        # Forward pass\n",
    "        pred = neural_network(x, weights)\n",
    "        \n",
    "        # error + delta handling\n",
    "        error = (pred - y_true) ** 2\n",
    "        delta = pred - y_true\n",
    "        total_error += error\n",
    "        \n",
    "        # update weights (Gradient descent)\n",
    "        for j in range(len(weights)):\n",
    "            weights[j] -= alpha * delta * x[j]\n",
    "            \n",
    "    # record per-batch\n",
    "    errors.append(total_error)\n",
    "    w0.append(weights[0])\n",
    "    w1.append(weights[1])\n",
    "    w2.append(weights[2])"
   ]
  },
  {
   "cell_type": "code",
   "execution_count": 11,
   "id": "b546d102",
   "metadata": {},
   "outputs": [
    {
     "data": {
      "image/png": "[encoded data removed]",
      "text/plain": [
       "<Figure size 1000x400 with 2 Axes>"
      ]
     },
     "metadata": {},
     "output_type": "display_data"
    }
   ],
   "source": [
    "### Plotting the results:\n",
    "import matplotlib.pyplot as plt\n",
    "\n",
    "plt.figure(figsize=(10, 4))\n",
    "\n",
    "# error curve\n",
    "plt.subplot(1, 2, 1)\n",
    "plt.plot(errors, label = \"Error\")\n",
    "plt.xlabel(\"Epoch\")\n",
    "plt.ylabel(\"Total Epoch\")\n",
    "plt.title('Error Curve')\n",
    "plt.legend()\n",
    "\n",
    "# Weight updates\n",
    "plt.subplot(1, 2, 2)\n",
    "plt.plot(w0, label='w0')\n",
    "plt.plot(w1, label='w1')\n",
    "plt.plot(w2, label='w2')\n",
    "plt.xlabel('Epoch')\n",
    "plt.ylabel('Wrights values')\n",
    "plt.title(\"domain Adaptation\")\n",
    "plt.legend()\n",
    "\n",
    "# showcase them\n",
    "plt.tight_layout()\n",
    "plt.show()"
   ]
  },
  {
   "cell_type": "markdown",
   "id": "ece58973",
   "metadata": {},
   "source": [
    "### Gradient descent learning with multiple inputs\n",
    "\n",
    "- **Step 1:** Prediction (forward Pass)\n",
    "\n",
    "  *The neuron computes a dot product*\n",
    "\n",
    "$$\\hat{y} = w_1x_1 + w_2x_2 + w_3x_3$$\n",
    "\n",
    "- **Step 2:** Compare (Calculating Error and Delta)\n",
    "\n",
    "  *We are using squared error*\n",
    "  $$E = (\\hat{y} - y)^2$$\n",
    "\n",
    "- **Step 3:** Delta (gradient of error w.r.t prediction)\n",
    "\n",
    "  *Derivative*\n",
    "  $$\\frac{\\partial E}{\\partial \\hat{y}} = 2(\\hat{y} - y)$$\n",
    "\n",
    "- **Step 4:** Weight Gradients\n",
    "\n",
    "  *Each weight's gradient comes from the chain rule*\n",
    "  $$\\frac{\\partial E}{\\partial w_j} = \\delta \\cdot x_j$$\n",
    "\n",
    "- **Step 5:** Weight Update\n",
    "  \n",
    "  Gradient descent update rule:\n",
    " \n",
    "  $$w_j \\leftarrow w_j - \\alpha \\cdot \\delta x_j$$\n",
    "\n",
    "##### *In a compact form Matrix/Vector* \n",
    "\n",
    "$$w \\leftarrow w - \\alpha \\delta x$$\n",
    "Where:\n",
    "- $w$ is the weights vector\n",
    "- $x$ is the input vector\n",
    "- $\\delta = \\hat{y} - y$\n",
    "\n"
   ]
  },
  {
   "cell_type": "code",
   "execution_count": 2,
   "id": "a045258f",
   "metadata": {},
   "outputs": [
    {
     "name": "stdout",
     "output_type": "stream",
     "text": [
      "Iteration 1\n",
      "  Prediction: 1.3400\n",
      "  Error: 0.1156\n",
      "  Delta: 0.3400\n",
      "  Weights: [0.0711, 0.19779000000000002, 0.29591999999999996]\n",
      "  Weight Deltas: [2.8900000000000006, 0.22100000000000006, 0.4080000000000001]\n",
      "\n",
      "Iteration 2\n",
      "  Prediction: 1.0880\n",
      "  Error: 0.0077\n",
      "  Delta: 0.0880\n",
      "  Weights: [0.0636185125, 0.19721788625000003, 0.29486378999999996]\n",
      "  Weight Deltas: [0.7481487499999988, 0.05721137499999991, 0.10562099999999983]\n",
      "\n",
      "Iteration 3\n",
      "  Prediction: 1.0228\n",
      "  Error: 0.0005\n",
      "  Delta: 0.0228\n",
      "  Weights: [0.061681742423437505, 0.1970697803029688, 0.29459036363624996]\n",
      "  Weight Deltas: [0.19367700765624973, 0.01481059470312498, 0.02734263637499996]\n",
      "\n"
     ]
    }
   ],
   "source": [
    "def neural_network(inputs, weights):\n",
    "    # Dot product of inputs and weights\n",
    "    out = 0\n",
    "    for i in range(len(inputs)):\n",
    "        out += inputs[i] * weights[i]\n",
    "    \n",
    "    return out\n",
    "\n",
    "def ele_mul(scaler, vector):\n",
    "    # Multiple each element of vector by scaler\n",
    "    out = [0] * len(vector)\n",
    "    for i in range(len(vector)):\n",
    "        out[i] = vector[i] * scaler\n",
    "    \n",
    "    return out\n",
    "\n",
    "# Train data\n",
    "toes =  [8.5, 9.5, 9.9, 9.0]\n",
    "wlrec = [0.65, 0.8, 0.8, 0.9]\n",
    "nfans = [1.2, 1.3, 0.5, 1.0]\n",
    "win_or_lose_binary = [1, 1, 0, 1]\n",
    "\n",
    "# Inputs:\n",
    "inputs = [toes[0], wlrec[0], nfans[0]]\n",
    "true = win_or_lose_binary[0]\n",
    "\n",
    "# Init weights:\n",
    "weights = [0.1, 0.2, 0.3]\n",
    "alpha = 0.01\n",
    "\n",
    "# training loop\n",
    "\n",
    "for iteration in range(3):\n",
    "    \n",
    "    # Forward pass\n",
    "    pred = neural_network(inputs, weights)\n",
    "    \n",
    "    # Error and delta\n",
    "    error = (pred - true) ** 2\n",
    "    delta = pred - true\n",
    "    \n",
    "    # weight update\n",
    "    weight_deltas = ele_mul(delta, inputs)\n",
    "    \n",
    "    # Update weights with gradient descent\n",
    "    for i in range(len(weights)):\n",
    "        weights[i] -= alpha * weight_deltas[i]\n",
    "        \n",
    "    # Print Progress\n",
    "    print(f\"Iteration {iteration+1}\")\n",
    "    print(f\"  Prediction: {pred:.4f}\")\n",
    "    print(f\"  Error: {error:.4f}\")\n",
    "    print(f\"  Delta: {delta:.4f}\")\n",
    "    print(f\"  Weights: {weights}\")\n",
    "    print(f\"  Weight Deltas: {weight_deltas}\\n\")"
   ]
  },
  {
   "cell_type": "markdown",
   "id": "5a5dfa4a",
   "metadata": {},
   "source": [
    "### Freezing one weight: What does it do?\n",
    "\n",
    "In this method, we will be training again, except weight $a$ won't be adjusted. we have to train using only weight $b$ and $c$"
   ]
  },
  {
   "cell_type": "code",
   "execution_count": 3,
   "id": "3aca921f",
   "metadata": {},
   "outputs": [
    {
     "name": "stdout",
     "output_type": "stream",
     "text": [
      "Iteration 1\n",
      "  Prediction: 0.8600\n",
      "  Error: -0.1400\n",
      "  Delta: -0.1400\n",
      "  Weights: [0.1, 0.2, -0.1]\n",
      "  Weight Deltas: [0, -0.09099999999999994, -0.16799999999999987]\n",
      "\n",
      "Iteration 2\n",
      "  Prediction: 0.8660\n",
      "  Error: -0.1340\n",
      "  Delta: -0.1340\n",
      "  Weights: [0.1, 0.2, -0.09496]\n",
      "  Weight Deltas: [0, -0.0870687999999999, -0.1607423999999998]\n",
      "\n",
      "Iteration 3\n",
      "  Prediction: 0.8718\n",
      "  Error: -0.1282\n",
      "  Delta: -0.1282\n",
      "  Weights: [0.1, 0.2, -0.09013772800000001]\n",
      "  Weight Deltas: [0, -0.08330742783999998, -0.15379832831999996]\n",
      "\n"
     ]
    }
   ],
   "source": [
    "def neural_network(input, weights):\n",
    "    \n",
    "    out = 0\n",
    "    for i in range(len(input)):\n",
    "        out += (input[i] * weights[i])\n",
    "    return out\n",
    "\n",
    "def ele_mul(scaler, vector):\n",
    "    out = [0] * len(vector)\n",
    "    for i in range(len(out)):\n",
    "        out[i] = vector[i] * scaler\n",
    "    return out\n",
    "\n",
    "# Train data\n",
    "toes =  [8.5, 9.5, 9.9, 9.0]\n",
    "wlrec = [0.65, 0.8, 0.8, 0.9]\n",
    "nfans = [1.2, 1.3, 0.5, 1.0]\n",
    "\n",
    "win_or_lose_binary = [1, 1, 0, 1]\n",
    "true = win_or_lose_binary[0]\n",
    "\n",
    "alpha = 0.01\n",
    "weights = [0.1, 0.2, -0.1]\n",
    "input = [toes[0], wlrec[0], nfans[0]]\n",
    "\n",
    "# training loop\n",
    "for iteration in range(3):\n",
    "    \n",
    "    pred = neural_network(input, weights)\n",
    "    \n",
    "    error = (pred - true) ** true\n",
    "    delta = pred - true\n",
    "    \n",
    "    weight_deltas = ele_mul(delta, input)\n",
    "    weight_deltas[0] = 0 # freezing one-weight\n",
    "    \n",
    "    print(f\"Iteration {iteration+1}\")\n",
    "    print(f\"  Prediction: {pred:.4f}\")\n",
    "    print(f\"  Error: {error:.4f}\")\n",
    "    print(f\"  Delta: {delta:.4f}\")\n",
    "    print(f\"  Weights: {weights}\")\n",
    "    print(f\"  Weight Deltas: {weight_deltas}\\n\")\n",
    "    \n",
    "    for iter in range(len(weights)):\n",
    "        weights[i] -= alpha * weight_deltas[i]"
   ]
  },
  {
   "cell_type": "markdown",
   "id": "ef32db2b",
   "metadata": {},
   "source": [
    "### Gradient Descent with Multiple Inputs & Outputs\n",
    "\n",
    "**Neural Network can also make multiple predictions using multiple Inputs**\n",
    "\n",
    "Gradient descent generalizes to arbitrarily large networks"
   ]
  },
  {
   "cell_type": "code",
   "execution_count": 5,
   "id": "068ae3d0",
   "metadata": {},
   "outputs": [],
   "source": [
    "import matplotlib.pyplot as plt\n",
    "import random"
   ]
  },
  {
   "cell_type": "code",
   "execution_count": 6,
   "id": "0b82805a",
   "metadata": {},
   "outputs": [],
   "source": [
    "# data\n",
    "toes  = [8.5, 9.5, 9.9, 9.0]\n",
    "wlrec = [0.65, 0.8, 0.8, 0.9]\n",
    "nfans = [1.2, 1.3, 0.5, 1.0]\n",
    "\n",
    "# True Labels\n",
    "Y = [\n",
    "    [1, 0.5],\n",
    "    [1, 1.0],\n",
    "    [0, 0.0],\n",
    "    [1, 0.7]\n",
    "]\n",
    "\n",
    "# Training data:\n",
    "X = [[toes[i], wlrec[i], nfans[i]] for i in range(4)]\n",
    "\n",
    "# Initialize weights: 2 outputs X 3 inputs\n",
    "W = [[random.uniform(-0.1, 0.1) for _ in range(3)] for _ in range(2)]"
   ]
  },
  {
   "cell_type": "code",
   "execution_count": 8,
   "id": "da75d340",
   "metadata": {},
   "outputs": [],
   "source": [
    "alpha = 0.01\n",
    "epochs = 5\n",
    "\n",
    "errors = []\n",
    "\n",
    "def forward(x, W):\n",
    "    '''\n",
    "    Compute predictions: y_hat = W @ x\n",
    "    '''\n",
    "    return [sum(W[j][i] * x[i] for i in range(len(x))) for j in range(len(W))]\n",
    "\n",
    "for epoch in range(epochs):\n",
    "    total_error = 0.0\n",
    "    \n",
    "    for x, y_true in zip(X, Y):\n",
    "        y_hat = forward(x, W)\n",
    "        \n",
    "        # Error (Squared)\n",
    "        total_error += sum((y_hat[j] - y_true[j]) ** 2 for j in range(len(y_true)))\n",
    "        \n",
    "        # gradients & weight update\n",
    "        for j in range(len(W)):\n",
    "            delta = y_hat[j] - y_true[j]\n",
    "            for i in range(len(W[j])):\n",
    "                W[j][i] -= alpha * delta * x[i]\n",
    "                \n",
    "    errors.append(total_error)"
   ]
  },
  {
   "cell_type": "code",
   "execution_count": 9,
   "id": "baf81b62",
   "metadata": {},
   "outputs": [
    {
     "data": {
      "image/png": "[encoded data removed]",
      "text/plain": [
       "<Figure size 640x480 with 1 Axes>"
      ]
     },
     "metadata": {},
     "output_type": "display_data"
    }
   ],
   "source": [
    "plt.plot(errors, label=\"Total Error\")\n",
    "plt.xlabel(\"Epoch\")\n",
    "plt.ylabel(\"Error\")\n",
    "plt.title(\"Training Error (Multi-input, Multi-output)\")\n",
    "plt.legend()\n",
    "plt.show()"
   ]
  },
  {
   "cell_type": "code",
   "execution_count": 10,
   "id": "31ae7b71",
   "metadata": {},
   "outputs": [
    {
     "name": "stdout",
     "output_type": "stream",
     "text": [
      "Final weights:\n",
      "Output 1: [0.08061692533480325, 0.0022103876608782318, 0.11160294967481485]\n",
      "Output 2: [0.06054691565210271, 0.05819347677023562, -0.0165256200402205]\n"
     ]
    }
   ],
   "source": [
    "print(\"Final weights:\")\n",
    "for j in range(len(W)):\n",
    "    print(f\"Output {j+1}: {W[j]}\")"
   ]
  },
  {
   "cell_type": "code",
   "execution_count": null,
   "id": "91828f6c",
   "metadata": {},
   "outputs": [],
   "source": []
  }
 ],
 "metadata": {
  "kernelspec": {
   "display_name": "llm101",
   "language": "python",
   "name": "python3"
  },
  "language_info": {
   "codemirror_mode": {
    "name": "ipython",
    "version": 3
   },
   "file_extension": ".py",
   "mimetype": "text/x-python",
   "name": "python",
   "nbconvert_exporter": "python",
   "pygments_lexer": "ipython3",
   "version": "3.11.13"
  }
 },
 "nbformat": 4,
 "nbformat_minor": 5
}
