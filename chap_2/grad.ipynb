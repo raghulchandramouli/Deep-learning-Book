{
 "cells": [
  {
   "cell_type": "markdown",
   "id": "35d4438e",
   "metadata": {},
   "source": [
    "## Gradient Descent\n",
    "\n",
    "After predicting we need to `compare` this gives us a measurement of how much a prediction is missed by\n",
    "\n",
    "After `Compare` we `Learn`, It tells each weight how it can change to reduce the error"
   ]
  },
  {
   "cell_type": "code",
   "execution_count": 1,
   "id": "8b90e6d0",
   "metadata": {},
   "outputs": [
    {
     "name": "stdout",
     "output_type": "stream",
     "text": [
      "0.30250000000000005\n"
     ]
    }
   ],
   "source": [
    "knob_weight = 0.5\n",
    "input = 0.5\n",
    "goal_pred = 0.8\n",
    "\n",
    "pred = input * knob_weight\n",
    "error = (pred - goal_pred) ** 2 # Forces the raw error to be pos by mul it by itself\n",
    "print(error)"
   ]
  },
  {
   "cell_type": "markdown",
   "id": "a1cb8be5",
   "metadata": {},
   "source": [
    "### Simple form of making neural network learn\n",
    "\n",
    "we use `Hot and Cold Learning` it means wiggling the weights to see which direction reduces the error the most, moving the weights in that direction, and repeating until the error gets to 0."
   ]
  },
  {
   "cell_type": "code",
   "execution_count": 10,
   "id": "83d72250",
   "metadata": {},
   "outputs": [
    {
     "name": "stdout",
     "output_type": "stream",
     "text": [
      "1.0\n"
     ]
    }
   ],
   "source": [
    "weight = 0.1\n",
    "lr = 0.1\n",
    "\n",
    "def neural_network(input, weight):\n",
    "    pred = input * weight\n",
    "    return pred\n",
    "\n",
    "number_of_toes = [8.5]\n",
    "win_or_loss_binary = [1]\n",
    "\n",
    "input = number_of_toes[0]\n",
    "true = win_or_loss_binary[0]\n",
    "\n",
    "pred = neural_network(input, weight)\n",
    "p_up = neural_network(input, weight - lr)\n",
    "\n",
    "error = (pred - true) ** 2\n",
    "e_up = (p_up - true) ** 2\n",
    "print(round(e_up, 4))"
   ]
  },
  {
   "cell_type": "markdown",
   "id": "b3f047ec",
   "metadata": {},
   "source": [
    "### Breaking Gradient Descent"
   ]
  },
  {
   "cell_type": "code",
   "execution_count": 14,
   "id": "585ae5b7",
   "metadata": {},
   "outputs": [
    {
     "name": "stdout",
     "output_type": "stream",
     "text": [
      "Error:0.30250000000000005Predictions:0.25\n",
      "Error:0.17015625000000004Predictions:0.3875\n",
      "Error:0.095712890625Predictions:0.49062500000000003\n",
      "Error:0.05383850097656251Predictions:0.56796875\n",
      "Error:0.03028415679931642Predictions:0.6259765625\n"
     ]
    }
   ],
   "source": [
    "weight = 0.5\n",
    "goal_pred = 0.8\n",
    "input = 0.5\n",
    "\n",
    "for iteration in range(5):\n",
    "    pred = input * weight\n",
    "    error = (pred - goal_pred) ** 2\n",
    "    delta = pred - goal_pred\n",
    "    weight_delta = input * delta\n",
    "    weight = weight - weight_delta\n",
    "    print(\"Error:\" + str(error) + \"Predictions:\" + str(pred))"
   ]
  },
  {
   "cell_type": "markdown",
   "id": "0a929bb0",
   "metadata": {},
   "source": [
    "### Introducing Alpha\n",
    "\n",
    "Alpha reduces the weight update so it doesn't overshoot. How does this work\n",
    "<div align='center'>\n",
    "<b><i>weight = weight - derivative</b></i>\n",
    "</div>\n",
    "\n",
    "Accounting for alpha its a rather small change, Notice if alpha is small(say, 0.01), it will reduce the weight consistantly, thus preventing it from exploding\n",
    "\n",
    "<div align='center'>\n",
    "<b><i>weight = weight - (alpha * derivative)</i></b>\n",
    "</div>\n"
   ]
  },
  {
   "cell_type": "code",
   "execution_count": 17,
   "id": "2acaf5c5",
   "metadata": {},
   "outputs": [
    {
     "name": "stdout",
     "output_type": "stream",
     "text": [
      "Error: 0.03999999999999998 Prediction: 1.0\n",
      "Error: 0.0144 Prediction: 0.92\n",
      "Error: 0.005183999999999993 Prediction: 0.872\n",
      "Error: 0.0018662400000000014 Prediction: 0.8432000000000001\n",
      "Error: 0.0006718464000000028 Prediction: 0.8259200000000001\n"
     ]
    }
   ],
   "source": [
    "weight = 0.5\n",
    "goal_pred = 0.8\n",
    "input = 2\n",
    "alpha = 0.1\n",
    "\n",
    "for iteration in range(5):\n",
    "    pred = input * weight\n",
    "    error = (pred - goal_pred) ** 2\n",
    "    derivative = input * (pred - goal_pred)\n",
    "    weight = weight - (alpha * derivative)\n",
    "    \n",
    "    print(\"Error: \" + str(error) + \" Prediction: \" + str(pred))"
   ]
  },
  {
   "cell_type": "code",
   "execution_count": null,
   "id": "5c4cfed0",
   "metadata": {},
   "outputs": [],
   "source": []
  }
 ],
 "metadata": {
  "kernelspec": {
   "display_name": "llm101",
   "language": "python",
   "name": "python3"
  },
  "language_info": {
   "codemirror_mode": {
    "name": "ipython",
    "version": 3
   },
   "file_extension": ".py",
   "mimetype": "text/x-python",
   "name": "python",
   "nbconvert_exporter": "python",
   "pygments_lexer": "ipython3",
   "version": "3.11.13"
  }
 },
 "nbformat": 4,
 "nbformat_minor": 5
}
