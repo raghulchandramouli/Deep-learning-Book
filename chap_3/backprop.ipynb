{
 "cells": [
  {
   "cell_type": "markdown",
   "id": "fe920e28",
   "metadata": {},
   "source": [
    "### Guided Intro to Backpropagation\n",
    "\n",
    "It's fundamental algorithm that enables neural network to learn by efficiently compute gradients and updates weights.\n",
    "\n",
    "**Key Concepts**\n",
    "\n",
    "1. *Foward Pass:* Inputs follows through the network layers\n",
    "2. *Loss calculation:* Computes error present in the layer with respect to true targets\n",
    "3. *Backward Pass:* Calculates how much each weight contributed to the error (uses chain rule)\n",
    "4. *Weight Update:* Adjusts weights to minimize the error using optimization algorithms like Gradient Descent\n",
    "\n",
    "> TL;DR\n",
    "Backpropagation is essentially `Learning with mistakes` - the network sees how wrong it was and adjusts weights to be less wrong next time."
   ]
  },
  {
   "cell_type": "markdown",
   "id": "af21dac1",
   "metadata": {},
   "source": []
  },
  {
   "cell_type": "code",
   "execution_count": null,
   "id": "a68f7c87",
   "metadata": {},
   "outputs": [],
   "source": [
    "# Building a neural network to showcase Backprop\n",
    "\n",
    "import numpy as np\n",
    "weights = np.array([0.5, 0.48, -0.7])\n",
    "alpha = 0.1\n",
    "\n",
    "matrix_value = np.array([ [1, 0, 1],\n",
    "                          [0, 1, 1],\n",
    "                          [0, 0, 1],\n",
    "                          [1, 1, 1],\n",
    "                          [0, 1, 1],\n",
    "                          [1, 0, 1] ])\n",
    "\n",
    "output = np.array([0, 1, 0, 1, 1, 0])\n",
    "\n",
    "input = matrix_value[0] # -> [1, 0, 1]\n",
    "goal_prediction = output[0]"
   ]
  },
  {
   "cell_type": "code",
   "execution_count": null,
   "id": "30987d4b",
   "metadata": {},
   "outputs": [
    {
     "name": "stdout",
     "output_type": "stream",
     "text": [
      "Error:5.316911983140017e-06Prediction:-0.0023058430092137705\n",
      "Error:5.708990770825904e-07Prediction:-0.0007555786372592799\n",
      "Error:6.129982163457715e-08Prediction:-0.0002475880078569581\n",
      "Error:6.5820182292947054e-09Prediction:-8.112963841466758e-05\n"
     ]
    }
   ],
   "source": [
    "# we are making it learn only 1 feature\n",
    "\n",
    "for iter in range(20):\n",
    "    prediction = input.dot(weights)\n",
    "    error = (goal_prediction - prediction) ** 2\n",
    "    delta = prediction - goal_prediction\n",
    "    weights = weights - (alpha * (input * delta))\n",
    "    \n",
    "    if iter % 5 == 0:\n",
    "        print('Error:' + str(error) + 'Prediction:' + str(prediction))"
   ]
  },
  {
   "cell_type": "markdown",
   "id": "b0500b98",
   "metadata": {},
   "source": [
    "**Making it learn the entire dataset**\n",
    "\n",
    "``The neural network has been learning only one feature, we want to make it learn all of them``"
   ]
  },
  {
   "cell_type": "code",
   "execution_count": 5,
   "id": "d692603b",
   "metadata": {},
   "outputs": [],
   "source": [
    "import numpy as np\n",
    "\n",
    "weights = np.array([0.5, 0.48, -0.7])\n",
    "alpha = 0.1\n",
    "\n",
    "matrix_value = np.array([ [1, 0, 1],\n",
    "                          [0, 1, 1],\n",
    "                          [0, 0, 1],\n",
    "                          [1, 1, 1],\n",
    "                          [0, 1, 1],\n",
    "                          [1, 0, 1] ])\n",
    "\n",
    "output = np.array([0, 1, 0, 1, 1, 0])\n",
    "\n",
    "input = matrix_value[0]\n",
    "goal_prediction = output[0]"
   ]
  },
  {
   "cell_type": "code",
   "execution_count": 9,
   "id": "785bef1c",
   "metadata": {},
   "outputs": [
    {
     "name": "stdout",
     "output_type": "stream",
     "text": [
      "Prediction:-0.003733415818170091\n",
      "Error:0.0018939739123713475\n",
      "\n",
      "Prediction:-0.003565528921192253\n",
      "Error:0.0016451096996342332\n",
      "\n",
      "Prediction:-0.0033920135266339822\n",
      "Error:0.0014290353984827077\n",
      "\n",
      "Prediction:-0.003216638628616701\n",
      "Error:0.0012413985592149145\n",
      "\n",
      "Prediction:-0.003042243679620596\n",
      "Error:0.0010784359268087556\n",
      "\n"
     ]
    }
   ],
   "source": [
    "for iter in range(5):\n",
    "    error_for_all = 0\n",
    "    for row in range(len(output)):\n",
    "        input = matrix_value[row]\n",
    "        goal_prediction = output[row]\n",
    "        \n",
    "        prediction = input.dot(weights)\n",
    "        \n",
    "        error = (goal_prediction - prediction) ** 2\n",
    "        error_for_all += error\n",
    "        \n",
    "        delta = prediction - goal_prediction\n",
    "        weights = weights - (alpha * (delta * input))\n",
    "        if row % 10 == 0:\n",
    "            print('Prediction:' + str(prediction))\n",
    "    \n",
    "    print('Error:' + str(error_for_all) + '\\n')"
   ]
  },
  {
   "cell_type": "markdown",
   "id": "53d31504",
   "metadata": {},
   "source": [
    "> **Full, batch, and stochastic gradient descent**\n",
    "\n",
    "1. *Stochastic gradient descent* updates weights one examples at at time.\n",
    "    \n",
    "2. *(Full) gradient descent* updates weights one dataset at a time.\n",
    "\n",
    "3. *Batch gradient* descent updates weights after n examples\n",
    "    "
   ]
  },
  {
   "cell_type": "markdown",
   "id": "8264e69d",
   "metadata": {},
   "source": [
    "### To make non-linear observation\n",
    "\n",
    "We use Non-linear functions(Activation) such as `Sigmoid`, `TanH` and `ReLu`.\n",
    "\n",
    "\n",
    "**Activation in Deep Learning**\n",
    "\n",
    "Activation functions are a crucial component of a neural network, They determine whether a neuron should be activated or not by introducing non-linearity into the model, enabling it to learn and perform complex tasks.\n",
    "\n",
    "> There are more activation functions like this and but core functionality changes."
   ]
  },
  {
   "cell_type": "code",
   "execution_count": 2,
   "id": "68bbdd97",
   "metadata": {},
   "outputs": [
    {
     "name": "stdout",
     "output_type": "stream",
     "text": [
      "Error:0.31298811341557736\n",
      "Error:0.043272385299784624\n",
      "Error:0.0034372657015086937\n",
      "Error:0.00019649599346773566\n",
      "Error:1.015593230102771e-05\n",
      "Error:5.122102420300414e-07\n"
     ]
    }
   ],
   "source": [
    "import numpy as np\n",
    "np.random.seed(1)\n",
    "\n",
    "def relu(x):\n",
    "    '''\n",
    "    Returns X if x > 0:\n",
    "    returns 0 otherwise\n",
    "    '''\n",
    "    return (x > 0) * x\n",
    "\n",
    "def relu2deriv(output):\n",
    "    '''\n",
    "    Returns 1 for output > 0\n",
    "    returns 0 otherwise\n",
    "    '''\n",
    "    return (output > 0)\n",
    "\n",
    "alpha = 0.2\n",
    "hidden_size = 4\n",
    "\n",
    "\n",
    "matrix_value = np.array([ [1, 0, 1],\n",
    "                          [0, 1, 1],\n",
    "                          [0, 0, 1],\n",
    "                          [1, 1, 1],\n",
    "                          [0, 1, 1],\n",
    "                          [1, 0, 1] ])\n",
    "\n",
    "output = np.array([0, 1, 0, 1, 1, 0])\n",
    "\n",
    "weights_0_1 = 2 * np.random.random((3, hidden_size)) - 1 # ((3, 4))\n",
    "weights_1_2 = 2 * np.random.random((hidden_size, 1)) - 1 # ((4, 1))\n",
    "\n",
    "for iter in range(60):\n",
    "    layer_2_error = 0\n",
    "    for i in range(len(matrix_value)):\n",
    "        layer_0 = matrix_value[i : 1 + i]\n",
    "        layer_1 = relu(np.dot(layer_0, weights_0_1))\n",
    "        layer_2 = np.dot(layer_1, weights_1_2)\n",
    "        \n",
    "        layer_2_error += np.sum((layer_2 - output[i:i+1]) ** 2)\n",
    "        \n",
    "        layer_2_delta = (output[i:i+1] - layer_2)\n",
    "        layer_1_delta = layer_2_delta.dot(weights_1_2.T)*relu2deriv(layer_1)\n",
    "        \n",
    "        weights_1_2 += alpha * layer_1.T.dot(layer_2_delta)\n",
    "        weights_0_1 += alpha * layer_0.T.dot(layer_1_delta)\n",
    "        \n",
    "    if (iter % 10 == 9):\n",
    "        print('Error:' + str(layer_2_error))"
   ]
  },
  {
   "cell_type": "code",
   "execution_count": null,
   "id": "e2052dbe",
   "metadata": {},
   "outputs": [],
   "source": []
  }
 ],
 "metadata": {
  "kernelspec": {
   "display_name": "llm101",
   "language": "python",
   "name": "python3"
  },
  "language_info": {
   "codemirror_mode": {
    "name": "ipython",
    "version": 3
   },
   "file_extension": ".py",
   "mimetype": "text/x-python",
   "name": "python",
   "nbconvert_exporter": "python",
   "pygments_lexer": "ipython3",
   "version": "3.11.13"
  }
 },
 "nbformat": 4,
 "nbformat_minor": 5
}
