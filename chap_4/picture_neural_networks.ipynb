{
 "cells": [
  {
   "cell_type": "markdown",
   "id": "02ea82fa",
   "metadata": {},
   "source": [
    "### How to picture Neural Networks\n",
    "\n",
    "*The most Important Simplification is the correlation summarization, which replaces the need to constantly worry about individual neurons, gradients, and layer stacks.*\n",
    "\n",
    "\n",
    "**1. Correlation Summarization:** : Neural Networks seek to find direct and indirect correlation between an input layer and an output layer, which are determined by the input and output datasets, respectively\n",
    "\n",
    "**2. Local Correlation Summarization:** Any given set of weights optmized to learn \n",
    "how to correlate its input layer with what the output layer says it should \n",
    "\n",
    "**3. Global Correlation Summarization:** We can deduce the value of later layers by multiplying weights with earlier layers between them. This ways, later layers can tell earlier layers what kind of signal they need, to ultimately find correlation with the output. This cross-communication is called `backprop`"
   ]
  },
  {
   "cell_type": "markdown",
   "id": "6d765716",
   "metadata": {},
   "source": [
    "\n",
    "### Visualizing with algebra (Linking Variable)\n",
    "\n",
    "For maximum simplicity and use in mathematical formulas. layers and weights are represented by mirroring the structure\n",
    "\n",
    "- **Matrices (Weights):** Represented by **Capial letter**\n",
    "- **Vectors (Layers):** Represented by a **Lowercase letter**\n",
    "- **Vector-Matrix Multiplication:** Indicated by placing the letters next to each other\n",
    "\n",
    "$$l_2 = \\text{relu}(l_0 W_0) W_1$$\n"
   ]
  },
  {
   "cell_type": "markdown",
   "id": "a1e26fd4",
   "metadata": {},
   "source": [
    "### The Importance of Architecture\n",
    "\n",
    "The specific configuration of layers and weights is called the architecture\n",
    "overfitting and generalize better to new data\n",
    "\n",
    "- **Architecture's Role:** It channels the signal flow through the network.\n",
    "- **Goal of Good Architectures:** To channel signal so correlation is easy to discover\n",
    "- **Goal of Great Architectures:** To also filter noise to help prevent overfitting and generalize better to new data"
   ]
  },
  {
   "cell_type": "markdown",
   "id": "8fc1b645",
   "metadata": {},
   "source": []
  }
 ],
 "metadata": {
  "kernelspec": {
   "display_name": "llm101",
   "language": "python",
   "name": "python3"
  },
  "language_info": {
   "name": "python",
   "version": "3.11.13"
  }
 },
 "nbformat": 4,
 "nbformat_minor": 5
}
